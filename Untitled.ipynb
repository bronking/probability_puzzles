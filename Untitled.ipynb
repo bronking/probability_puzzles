{
 "cells": [
  {
   "cell_type": "markdown",
   "id": "56105655",
   "metadata": {},
   "source": [
    "### 1. Birthday Problem \n",
    "***\n",
    "From a group of n persons, calculate the probability that there are at least two persons with the same birthday.\n",
    "$$ P(A) = 1 - \\frac{n\\choose k}{365^{n}} $$\n",
    "\n",
    "$ More variant versions: $\n",
    "\n",
    "1.<br>\n",
    "2.&emsp;Calculate the probability that there are at least two persons with the birthday within a day\n",
    "2."
   ]
  },
  {
   "cell_type": "markdown",
   "id": "dde09a57",
   "metadata": {},
   "source": [
    "#q"
   ]
  },
  {
   "cell_type": "code",
   "execution_count": null,
   "id": "2623b7ed",
   "metadata": {},
   "outputs": [],
   "source": []
  }
 ],
 "metadata": {
  "kernelspec": {
   "display_name": "cmv",
   "language": "python",
   "name": "cmv"
  },
  "language_info": {
   "codemirror_mode": {
    "name": "ipython",
    "version": 3
   },
   "file_extension": ".py",
   "mimetype": "text/x-python",
   "name": "python",
   "nbconvert_exporter": "python",
   "pygments_lexer": "ipython3",
   "version": "3.9.12"
  }
 },
 "nbformat": 4,
 "nbformat_minor": 5
}
